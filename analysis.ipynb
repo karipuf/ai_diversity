{
 "cells": [
  {
   "cell_type": "markdown",
   "id": "3afbedf6-390e-4485-a48b-fa990aba5f26",
   "metadata": {},
   "source": [
    "#### Initialization"
   ]
  },
  {
   "cell_type": "code",
   "execution_count": 50,
   "id": "6f1282d0-0989-45a2-bfa8-688e9137b59c",
   "metadata": {},
   "outputs": [],
   "source": [
    "from openai import OpenAI\n",
    "import pandas as pd,numpy as np,json,re,os,httpx\n",
    "from json_repair import repair_json\n",
    "from tqdm.notebook import tqdm\n",
    "\n",
    "local_client=OpenAI(base_url='http://localhost:11434/v1/',api_key='12345')\n",
    "groq_client=OpenAI(base_url='https://api.groq.com/openai/v1/',api_key=os.environ['GROQKEY'])\n",
    "pplx_client=OpenAI(base_url='https://api.perplexity.ai',api_key=os.environ['PPLXKEY'])\n",
    "gpt4o_client=OpenAI(base_url=os.environ['GPTPROXYURL'],api_key=os.environ['GPTPROXYKEY'],\n",
    "                   http_client=httpx.Client(verify='/Users/wwoon/projects/hackathon/text-search-hackathon-2024/certificates/GAP-proxy-certificate.crt'))\n",
    "\n",
    "def topic_extraction_msgs(passage):\n",
    "\n",
    "    return [{'role':'system',\n",
    "          'content':'You are a helpful research assistant'},\n",
    "            {'role':'user',\n",
    "             'content':f\"\"\"\n",
    "             \n",
    "The following is some content provided by the user:\n",
    "{passage}\n",
    "\n",
    "Your main task is to read this abstract carefully and determine the main research domain(s) from the following list. Consider the core concepts, specific algorithms, and techniques discussed in the abstract, not just general machine learning terms:\n",
    "\n",
    "[List of domains with brief descriptions]\n",
    "- Kernel Methods: Algorithms using kernel functions for pattern analysis\n",
    "- Neural Networks: Computational models inspired by biological neural networks\n",
    "- Deep Learning Architectures: Advanced neural network structures with multiple layers\n",
    "- Probabilistic Graphical Models: Representations of probabilistic relationships among variables\n",
    "- Decision Trees and Random Forests: Tree-based models for classification and regression\n",
    "- Support Vector Machines: Supervised learning models for classification and regression\n",
    "- Clustering Algorithms: Unsupervised learning techniques for grouping similar data points\n",
    "- Evolutionary Algorithms: Optimization techniques inspired by biological evolution\n",
    "- Bayesian Methods: Probabilistic approaches based on Bayes' theorem\n",
    "- Ensemble Methods: Techniques combining multiple learning algorithms\n",
    "- Dimensionality Reduction Techniques: Methods for reducing the number of random variables\n",
    "- Hidden Markov Models: Statistical models where the system is a Markov process with hidden states\n",
    "- Convolutional Neural Networks: Deep learning models particularly effective for image processing\n",
    "- Recurrent Neural Networks: Neural networks designed to work with sequence data\n",
    "- Generative Adversarial Networks: Deep learning models for generating new data\n",
    "- Attention Mechanisms: Techniques allowing models to focus on specific parts of input data\n",
    "- Transfer Learning Methods: Approaches for applying knowledge from one task to another\n",
    "- Fuzzy Logic Systems: Reasoning based on \"degrees of truth\" rather than boolean logic\n",
    "- Natural Language Processing Models: Techniques for processing and analyzing human language\n",
    "\n",
    "\"\"\"+\"\"\"\n",
    "Additional instructions:\n",
    "1. Provide the response in the form of a JSON object with the following structure:\n",
    "   {\n",
    "     \"justification\": \"Brief explanation of why these topics were chosen\",\n",
    "     \"main_topic\": {\"name\": \"topic_1\", \"confidence\": 0.0-1.0},\n",
    "     \"secondary_topics\": [{\"name\": \"topic_2\", \"confidence\": 0.0-1.0}, {\"name\": \"topic_3\", \"confidence\": 0.0-1.0}]\n",
    "   }\n",
    "2. Use ONLY topics provided in the list above. If none fit, use \"N/A\"\n",
    "3. Include up to two secondary topics if relevant, with a minimum confidence of 0.3.\n",
    "4. Consider the overall context of the abstract, focusing on specific algorithms, methods, and problem domains discussed.\n",
    "5. Be aware that general machine learning terms like \"training\", \"convergence\", and \"performance\" are used across many domains. Focus on the unique aspects of each domain.\n",
    "6. Provide ONLY the JSON response, with no additional comments or text.\n",
    "\"\"\"\n",
    "          }]\n",
    "\n",
    "def extract_topics(passage,\n",
    "                  the_model='mistral-nemo:12b',\n",
    "                  client=local_client,\n",
    "                  retries=3):\n",
    "\n",
    "  for count in range(retries):\n",
    "\n",
    "    try:\n",
    "      resp=client.chat.completions.create(\n",
    "        model=the_model,\n",
    "        messages=topic_extraction_msgs(passage)\n",
    "      )\n",
    "      \n",
    "      js=json.loads(repair_json(resp.choices[0].message.content))\n",
    "      return { \n",
    "        'main_topic' : js.get(\"main_topic\",\"N/A\"),\n",
    "        'secondary_topic' : js.get(\"secondary_topic\",\"N/A\"),\n",
    "        'model' : the_model,\n",
    "        'num_retries' : count\n",
    "      }\n",
    "    except:\n",
    "      pass\n",
    "\n",
    "    # Give up\n",
    "    return { 'main_topic':'N/A' , 'secondary_topic':'N/A' , 'model':the_model, 'num_retries':-1}\n",
    "          \n",
    "\n"
   ]
  },
  {
   "cell_type": "markdown",
   "id": "fecdb0ba-5c80-4836-8277-1a551b3121da",
   "metadata": {},
   "source": [
    "#### Analysis"
   ]
  },
  {
   "cell_type": "code",
   "execution_count": 58,
   "id": "6af922cc-9f7f-4a2d-ab8e-80e5b12f7460",
   "metadata": {},
   "outputs": [],
   "source": [
    "# Quick functions\n",
    "\n",
    "def get_topics_groq(inseries):\n",
    "  extract_topics_groq=lambda x:extract_topics(x,client=groq_client,the_model='llama3-70b-8192')\n",
    "  res=[]\n",
    "  for abs in tqdm(inseries):\n",
    "    res.append(extract_topics_groq(abs)['main_topic']['name'])\n",
    "  return res\n",
    "\n",
    "def get_topics_pplx(inseries,the_client=pplx_client,the_model='llama-3.1-sonar-large-128k-chat'):\n",
    "  extract_topics_pplx=lambda x:extract_topics(x,client=the_client,the_model=the_model)\n",
    "  res=[]\n",
    "  for abs in tqdm(inseries):\n",
    "    try:\n",
    "      res.append(extract_topics_pplx(abs)['main_topic']['name'])\n",
    "    except:\n",
    "      res.append('N/A')\n",
    "  return res\n"
   ]
  },
  {
   "cell_type": "code",
   "execution_count": null,
   "id": "b12d934b-e9a9-4ff5-9fbd-801c57eed3ad",
   "metadata": {},
   "outputs": [
    {
     "data": {
      "application/vnd.jupyter.widget-view+json": {
       "model_id": "98d9deefb6ed4131be3810cd2aae675b",
       "version_major": 2,
       "version_minor": 0
      },
      "text/plain": [
       "  0%|          | 0/50 [00:00<?, ?it/s]"
      ]
     },
     "metadata": {},
     "output_type": "display_data"
    }
   ],
   "source": [
    "## # Loading in the data\n",
    "\n",
    "# Query openalex from the website, set source is Proceedings of the AAAI Conference on Artificial Intelligence, then year is <year>\n",
    "nrows=50\n",
    "tpx_={'gpt':lambda x:get_topics_pplx(x,the_client=gpt4o_client,the_model='gpt-4o'),\n",
    "      'pplx':lambda x:get_topics_pplx(x),\n",
    "      'groq':lambda x:get_topics_groq(x)}['pplx']\n",
    "\n",
    "pf2023=pd.read_csv(\"./aaai_data/works-2024-09-06T22-53-09_2023.csv\").head(nrows).assign(topics=lambda x:tpx_(x.abstract))\n",
    "pf2020=pd.read_csv(\"./aaai_data/works-2024-09-06T21-59-15_aaai_2020.csv\").head(nrows).assign(topics=lambda x:tpx_(x.abstract))\n",
    "pf2010=pd.read_csv(\"./aaai_data/works-2024-09-06T22-01-39_aaai_2010.csv\").head(nrows).assign(topics=lambda x:tpx_(x.abstract))\n",
    "\n",
    "pf2010.topics.value_counts(),\\\n",
    "pf2020.topics.value_counts(),\\\n",
    "pf2023.topics.value_counts()"
   ]
  },
  {
   "cell_type": "code",
   "execution_count": null,
   "id": "50df614a-0200-451e-a227-e67bc472d883",
   "metadata": {},
   "outputs": [],
   "source": [
    "pf2010=pd.to_csv(f\"cached/pf2010_{nrows}topics.csv\")\n",
    "pf2020=pd.to_csv(f\"cached/pf2020_{nrows}topics.csv\")\n",
    "pf2023=pd.to_csv(f\"cached/pf2023_{nrows}topics.csv\")"
   ]
  },
  {
   "cell_type": "code",
   "execution_count": 7,
   "id": "7a9e45cc-de77-456f-bd14-f40a36f0c225",
   "metadata": {},
   "outputs": [
    {
     "data": {
      "text/plain": [
       "(topics\n",
       " Agents    24\n",
       " Name: count, dtype: int64,\n",
       " topics\n",
       " Agents                   23\n",
       " Probabilistic methods     1\n",
       " Name: count, dtype: int64,\n",
       " topics\n",
       " Agents                   22\n",
       " Probabilistic methods     2\n",
       " Name: count, dtype: int64)"
      ]
     },
     "execution_count": 7,
     "metadata": {},
     "output_type": "execute_result"
    }
   ],
   "source": [
    "pf2010=pd.read_csv(f\"cached/pf2010_{nrows}topics.csv\")\n",
    "pf2020=pd.read_csv(f\"cached/pf2020_{nrows}topics.csv\")\n",
    "pf2023=pd.read_csv(f\"cached/pf2023_{nrows}topics.csv\")\n",
    "\n",
    "pf2010.topics.value_counts(),\\\n",
    "pf2020.topics.value_counts(),\\\n",
    "pf2023.topics.value_counts()"
   ]
  },
  {
   "cell_type": "markdown",
   "id": "348946e5-fb42-43a4-a919-19c557b653af",
   "metadata": {},
   "source": [
    "## Scratch"
   ]
  },
  {
   "cell_type": "code",
   "execution_count": 35,
   "id": "2f7b8b1b-7078-4ff2-bfb6-b51029ae881a",
   "metadata": {},
   "outputs": [],
   "source": [
    "### Older embedding messages:\n",
    "\n",
    "def topic_extraction_msgs_older(passage):\n",
    "  \n",
    "  return [{'role':'system',\n",
    "          'content':\n",
    "          \"\"\"\n",
    "### You are a helpful assistant. Here are the instructions:\n",
    "\n",
    "1. The user will provide a passage of text after these instructions.\n",
    "2. Read the text and determine the main research domain or domains\n",
    "Please limit the response to  domains selected from the following list:\n",
    "    * Deep Learning\n",
    "    * Neural Networks\n",
    "    * Probabilistic methods\n",
    "    * Agents\n",
    "    * Decision Trees\n",
    "    * Clustering\n",
    "    * Visualization\n",
    "    * Kernel methods\n",
    "\n",
    "3. Provide the response in the form of a json object { \"main_topic\": topic_1, \"secondary_topic\": topic_2  }.\n",
    "4. Again, remember to use ONLY topics provided in the list above. If NONE of them fit, you can fill in \"N/A\"\n",
    "5. If there is only one matching topic, or if there is really only one main topic, set the \"secondary_topic\" to \"N/A\",   \n",
    "6. ONLY provide the json response, with no additional comments or text. \n",
    "\n",
    "          \"\"\"\n",
    "          },\n",
    "         {'role':'user',\n",
    "          'content':f\"\"\"\n",
    "### Here is the passage:\n",
    "\n",
    "{passage}\n",
    "          \"\"\"\n",
    "          }]\n",
    "\n",
    "def topic_extraction_msgs_old(passage):\n",
    "\n",
    "    return [{'role':'system',\n",
    "          'content':\n",
    "          \"\"\"\n",
    "### You are a helpful assistant. Here are the instructions:\n",
    "\n",
    "1. The user will provide a passage of text after these instructions.\n",
    "2. Read the text and determine the main research domain(s) from the following list:\n",
    "    * Deep Learning\n",
    "    * Neural Networks\n",
    "    * Probabilistic methods\n",
    "    * Agents\n",
    "    * Decision Trees\n",
    "    * Clustering\n",
    "    * Visualization\n",
    "    * Kernel methods\n",
    "\n",
    "3. Provide the response in the form of a JSON object with the following structure:\n",
    "   {\n",
    "     \"justification\": \"Brief explanation of why these topics were chosen\",\n",
    "     \"main_topic\": {\"name\": \"topic_1\", \"confidence\": 0.0-1.0},\n",
    "     \"secondary_topics\": {\"name\": \"topic_2\", \"confidence\": 0.0-1.0}\n",
    "   }\n",
    "\n",
    "4. Use ONLY topics provided in the list above. If none fit, use \"N/A\"\n",
    "5. Include up to two secondary topics if relevant, with a minimum confidence of 0.3.\n",
    "6. Consider the overall context of the abstract, not just individual keywords.\n",
    "7. Provide ONLY the JSON response, with no additional comments or text.\n",
    "          \"\"\"\n",
    "          },\n",
    "         {'role':'user',\n",
    "          'content':f\"\"\"\n",
    "### Here is the passage:\n",
    "\n",
    "{passage}\n",
    "          \"\"\"\n",
    "          }]\n"
   ]
  },
  {
   "cell_type": "code",
   "execution_count": 44,
   "id": "6efad6ad-f4c8-4c2f-95bf-51abf6257739",
   "metadata": {},
   "outputs": [
    {
     "data": {
      "text/plain": [
       "{'main_topic': 'N/A',\n",
       " 'secondary_topic': 'N/A',\n",
       " 'model': 'mistral-nemo:12b',\n",
       " 'num_retries': -1}"
      ]
     },
     "execution_count": 44,
     "metadata": {},
     "output_type": "execute_result"
    }
   ],
   "source": [
    "extract_topics(pf2020.abstract[0])"
   ]
  },
  {
   "cell_type": "code",
   "execution_count": 107,
   "id": "787be52c-6444-4481-97ce-63ab7d0c5bf8",
   "metadata": {},
   "outputs": [
    {
     "data": {
      "text/html": [
       "<div>\n",
       "<style scoped>\n",
       "    .dataframe tbody tr th:only-of-type {\n",
       "        vertical-align: middle;\n",
       "    }\n",
       "\n",
       "    .dataframe tbody tr th {\n",
       "        vertical-align: top;\n",
       "    }\n",
       "\n",
       "    .dataframe thead th {\n",
       "        text-align: right;\n",
       "    }\n",
       "</style>\n",
       "<table border=\"1\" class=\"dataframe\">\n",
       "  <thead>\n",
       "    <tr style=\"text-align: right;\">\n",
       "      <th></th>\n",
       "      <th>abstract</th>\n",
       "      <th>topics</th>\n",
       "    </tr>\n",
       "  </thead>\n",
       "  <tbody>\n",
       "    <tr>\n",
       "      <th>32</th>\n",
       "      <td>Auctions are promising decentralized methods for teams of agents to allocate and re-allocate tasks among themselves in dynamic, partially known and time-constrained domains with positive or negative synergies among tasks. Auction-based coordination systems are easy to understand, simple to implement and broadly applicable. They promise to be efficient both in communication (since agents communicate only essential summary information) and in computation (since agents compute their bids in parallel). Artificial intelligence research has explored auction-based coordination systems since the early work on contract networks, mostly from an experimental perspective. This overview paper describes our recent progress towards creating a framework for the design and analysis of cooperative auctions for agent coordination.</td>\n",
       "      <td>{'main_topic': {'name': 'Deep Learning', 'confidence': 0.8}, 'secondary_topic': 'N/A', 'model': 'gemma2:9b-instruct-q5_1', 'num_retries': 0}</td>\n",
       "    </tr>\n",
       "    <tr>\n",
       "      <th>244</th>\n",
       "      <td>In various domains, such as computer games, robotics, and transportation networks, shortest paths may need to be found quickly. Search time can be significantly reduced if it is known which parts of the graph include ``swamps''---areas that cannot lie on the only available shortest path, and can thus safely be pruned during search. We introduce an algorithm for detecting hierarchies of swamps, and exploiting them. Experiments support our claims of improved efficiency, showing significant reduction in search time.</td>\n",
       "      <td>{'main_topic': {'name': 'Agents', 'confidence': 0.8}, 'secondary_topic': 'N/A', 'model': 'gemma2:9b-instruct-q5_1', 'num_retries': 0}</td>\n",
       "    </tr>\n",
       "  </tbody>\n",
       "</table>\n",
       "</div>"
      ],
      "text/plain": [
       "                                                                                                                                                                                                                                                                                                                                                                                                                                                                                                                                                                                                                                                                                                                                                                                                                                                    abstract  \\\n",
       "32   Auctions are promising decentralized methods for teams of agents to allocate and re-allocate tasks among themselves in dynamic, partially known and time-constrained domains with positive or negative synergies among tasks. Auction-based coordination systems are easy to understand, simple to implement and broadly applicable. They promise to be efficient both in communication (since agents communicate only essential summary information) and in computation (since agents compute their bids in parallel). Artificial intelligence research has explored auction-based coordination systems since the early work on contract networks, mostly from an experimental perspective. This overview paper describes our recent progress towards creating a framework for the design and analysis of cooperative auctions for agent coordination.   \n",
       "244                                                                                                                                                                                                                                                                                                                   In various domains, such as computer games, robotics, and transportation networks, shortest paths may need to be found quickly. Search time can be significantly reduced if it is known which parts of the graph include ``swamps''---areas that cannot lie on the only available shortest path, and can thus safely be pruned during search. We introduce an algorithm for detecting hierarchies of swamps, and exploiting them. Experiments support our claims of improved efficiency, showing significant reduction in search time.   \n",
       "\n",
       "                                                                                                                                           topics  \n",
       "32   {'main_topic': {'name': 'Deep Learning', 'confidence': 0.8}, 'secondary_topic': 'N/A', 'model': 'gemma2:9b-instruct-q5_1', 'num_retries': 0}  \n",
       "244         {'main_topic': {'name': 'Agents', 'confidence': 0.8}, 'secondary_topic': 'N/A', 'model': 'gemma2:9b-instruct-q5_1', 'num_retries': 0}  "
      ]
     },
     "execution_count": 107,
     "metadata": {},
     "output_type": "execute_result"
    }
   ],
   "source": [
    "# Sanity check\n",
    "testf=pf2010.sample(2)\n",
    "testf['topics']=testf['abstract'].map(lambda x:extract_topics(x,the_model='gemma2:9b-instruct-q5_1'))\n",
    "\n",
    "pd.set_option('display.max_colwidth',None)\n",
    "testf[['abstract','topics']]"
   ]
  },
  {
   "cell_type": "code",
   "execution_count": 17,
   "id": "78cc1208-bf3b-4946-b6f3-0a77c4e94a04",
   "metadata": {},
   "outputs": [
    {
     "data": {
      "text/plain": [
       "'```json\\n{\\n  \"justification\": \"The passage explicitly mentions \\'neural networks\\', which is a clear indicator of the main research domain.\",\\n  \"main_topic\": {\"name\": \"Neural Networks\", \"confidence\": 1.0},\\n  \"secondary_topics\": {\"name\": \"N/A\", \"confidence\": 0.0}\\n}\\n```'"
      ]
     },
     "execution_count": 17,
     "metadata": {},
     "output_type": "execute_result"
    }
   ],
   "source": [
    "#res=pplx_client.chat.completions.create(model='llama-3.1-sonar-large-128k-chat',\n",
    "#                                        messages=[{'role':'system','content':'you are a helpful assistant'},\n",
    "#                                                  {'role':'user','content':'how are you doing'}])\n",
    "\n",
    "\n",
    "res=pplx_client.chat.completions.create(model='llama-3.1-sonar-large-128k-chat',\n",
    "                                        messages=topic_extraction_msgs('this is an abstract about neural networks'))\n",
    "\n",
    "res.choices[0].message.content\n"
   ]
  },
  {
   "cell_type": "code",
   "execution_count": 10,
   "id": "c3134065-fe05-40da-9f32-1d67a6948ed1",
   "metadata": {},
   "outputs": [
    {
     "data": {
      "text/plain": [
       "{'main_topic': {'name': 'Agents', 'confidence': 0.9},\n",
       " 'secondary_topic': 'N/A',\n",
       " 'model': 'llama-3.1-sonar-large-128k-chat',\n",
       " 'num_retries': 0}"
      ]
     },
     "execution_count": 10,
     "metadata": {},
     "output_type": "execute_result"
    }
   ],
   "source": [
    "extract_topics(pf2020.abstract[1],\n",
    "  client=pplx_client,the_model='llama-3.1-sonar-large-128k-chat')"
   ]
  },
  {
   "cell_type": "code",
   "execution_count": 11,
   "id": "84a868c8-40eb-4560-aab7-15a94e6a8bfa",
   "metadata": {},
   "outputs": [
    {
     "data": {
      "application/vnd.jupyter.widget-view+json": {
       "model_id": "b59279ab5a964c63bdfe607af5b3bba9",
       "version_major": 2,
       "version_minor": 0
      },
      "text/plain": [
       "  0%|          | 0/2 [00:00<?, ?it/s]"
      ]
     },
     "metadata": {},
     "output_type": "display_data"
    },
    {
     "data": {
      "text/plain": [
       "[{'main_topic': {'name': 'Agents', 'confidence': 0.9},\n",
       "  'secondary_topic': 'N/A',\n",
       "  'model': 'llama-3.1-sonar-large-128k-chat',\n",
       "  'num_retries': 0},\n",
       " {'main_topic': {'name': 'Agents', 'confidence': 0.9},\n",
       "  'secondary_topic': 'N/A',\n",
       "  'model': 'llama-3.1-sonar-large-128k-chat',\n",
       "  'num_retries': 0}]"
      ]
     },
     "execution_count": 11,
     "metadata": {},
     "output_type": "execute_result"
    }
   ],
   "source": [
    "get_topics_pplx(pf2020.abstract[:2])"
   ]
  }
 ],
 "metadata": {
  "kernelspec": {
   "display_name": "Python 3 (ipykernel)",
   "language": "python",
   "name": "python3"
  },
  "language_info": {
   "codemirror_mode": {
    "name": "ipython",
    "version": 3
   },
   "file_extension": ".py",
   "mimetype": "text/x-python",
   "name": "python",
   "nbconvert_exporter": "python",
   "pygments_lexer": "ipython3",
   "version": "3.10.14"
  }
 },
 "nbformat": 4,
 "nbformat_minor": 5
}
