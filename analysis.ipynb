{
 "cells": [
  {
   "cell_type": "markdown",
   "id": "3afbedf6-390e-4485-a48b-fa990aba5f26",
   "metadata": {},
   "source": [
    "#### Initialization"
   ]
  },
  {
   "cell_type": "code",
   "execution_count": 106,
   "id": "6f1282d0-0989-45a2-bfa8-688e9137b59c",
   "metadata": {},
   "outputs": [],
   "source": [
    "from openai import OpenAI\n",
    "import pandas as pd,numpy as np,json,re\n",
    "from json_repair import repair_json\n",
    "\n",
    "local_client=OpenAI(base_url='http://localhost:11434/v1/',api_key='12345')\n",
    "\n",
    "def topic_extraction_msgs(passage):\n",
    "  \n",
    "  return [{'role':'system',\n",
    "          'content':\n",
    "          \"\"\"\n",
    "You are a helpful assistant. Here are the instructions:\n",
    "1. The user will provide a passage of text after these instructions.\n",
    "2. Read the text and determine the main research domain or domains\n",
    "Please limit the response to  domains selected from the following list \n",
    "[\"Neural Networks\", \"Probabilistic methods\", \"Decision Trees\", \"Clustering\", \"Visualization\", \"Kernel methods\"]\n",
    "3. Provide the response in the form of a json object { \"main_topic\": topic_1, \"secondary_topic\": topic_2  }.\n",
    "4. Again, remember to use ONLY topics provided in the list above. If NONE of them fit, you can fill in \"N/A\"\n",
    "5. If there is only one matching topic, or if there is really only one main topic, set the \"secondary_topic\" to \"N/A\",   \n",
    "6. ONLY provide the json response, with no additional comments or text. \n",
    "\n",
    "          \"\"\"\n",
    "          },\n",
    "         {'role':'user',\n",
    "          'content':f\"\"\"\n",
    "Here is the passage:\n",
    "--------------------\n",
    "\n",
    "{passage}\n",
    "          \"\"\"\n",
    "          }]\n",
    "\n",
    "# Loading in the data\n",
    "\n",
    "# Query openalex from the website, set source is Proceedings of the AAAI Conference on Artificial Intelligence, then year is <year>\n",
    "pf2020=pd.read_csv(\"./aaai_data/works-2024-09-06T21-59-15_aaai_2020.csv\")\n",
    "pf2010=pd.read_csv(\"./aaai_data/works-2024-09-06T22-01-39_aaai_2010.csv\")"
   ]
  },
  {
   "cell_type": "markdown",
   "id": "fecdb0ba-5c80-4836-8277-1a551b3121da",
   "metadata": {},
   "source": [
    "#### Analysis"
   ]
  },
  {
   "cell_type": "code",
   "execution_count": 113,
   "id": "2d54956f-8a1f-41d4-99f3-87db6fb00a16",
   "metadata": {},
   "outputs": [],
   "source": [
    "def extract_topics(passage,\n",
    "                  the_model='phi3.5:latest',#'mistral-nemo:12b',\n",
    "                  client=local_client,\n",
    "                  retries=3):\n",
    "\n",
    "  for count in range(retries):\n",
    "\n",
    "    try:\n",
    "      resp=client.chat.completions.create(\n",
    "        model=the_model,\n",
    "        messages=topic_extraction_msgs(pf2010.abstract[1])\n",
    "      )\n",
    "      \n",
    "      js=json.loads(repair_json(resp.choices[0].message.content))\n",
    "      return { \n",
    "        'main_topic' : js.get(\"main_topic\",\"N/A\"),\n",
    "        'secondary_topic' : js.get(\"secondary_topic\",\"N/A\"),\n",
    "        'model' : the_model\n",
    "      }\n",
    "    except:\n",
    "      pass\n",
    "\n",
    "    # Give up\n",
    "    return { 'main_topic':'N/A' , 'secondary_topic':'N/A' , 'model':the_model}\n",
    "          "
   ]
  },
  {
   "cell_type": "code",
   "execution_count": null,
   "id": "35f33f67-60a4-42c4-9210-19a85ac49ff8",
   "metadata": {},
   "outputs": [],
   "source": [
    "topics2020=pf2020.abstract[:30].map(extract_topics)\n",
    "topics2010=pf2010.abstract[:30].map(extract_topics)"
   ]
  },
  {
   "cell_type": "code",
   "execution_count": null,
   "id": "4f3b3775-8d8a-47c4-8dba-d84f29e4a38e",
   "metadata": {},
   "outputs": [],
   "source": [
    "print(\"2010:\\n-----\")\n",
    "print(pd.DataFrame(topics2010.tolist()).main_topic.value_counts())\n",
    "\n",
    "print(\"\\n2020:\\n-----\")\n",
    "print(pd.DataFrame(topics2020.tolist()).main_topic.value_counts())"
   ]
  },
  {
   "cell_type": "code",
   "execution_count": null,
   "id": "047e8c47-e33f-4d71-b11b-ce428bade4fb",
   "metadata": {},
   "outputs": [],
   "source": []
  }
 ],
 "metadata": {
  "kernelspec": {
   "display_name": "Python 3 (ipykernel)",
   "language": "python",
   "name": "python3"
  },
  "language_info": {
   "codemirror_mode": {
    "name": "ipython",
    "version": 3
   },
   "file_extension": ".py",
   "mimetype": "text/x-python",
   "name": "python",
   "nbconvert_exporter": "python",
   "pygments_lexer": "ipython3",
   "version": "3.10.14"
  }
 },
 "nbformat": 4,
 "nbformat_minor": 5
}
